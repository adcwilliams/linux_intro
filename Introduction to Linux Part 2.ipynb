{
 "cells": [
  {
   "cell_type": "markdown",
   "metadata": {},
   "source": [
    "## Text Editors\n",
    "\n",
    "We've seen how to create an empty file using the `touch` command, but to add content we'll need to use a text editor. There are graphical editors available for Linux, but when connected to a Linux machine over a network it's advisable to use a text-based editor that runs in the Linux terminal for improved speed. Frequently, graphical applications are not installed or blocked from running over a network in order to prevent them from hogging the available bandwidth, so it's important to become familiar with a terminal-based text editor for the occasions when that is all there is available.\n",
    "\n",
    "The two we'll be looking at are `nano` and `vim`. The former is simpler and more widely available, so is a good first option for a beginner, but the latter is considerably more powerful, albeit at the cost of added complexity. There are others, such as `emacs`, but that is beyond the scope of this introduction.\n",
    "\n",
    "In order to use a text editor you'll need to have a terminal window open, so launch one now if you haven't already."
   ]
  },
  {
   "cell_type": "markdown",
   "metadata": {},
   "source": [
    "### Nano\n",
    "\n",
    "| ![Nano](img/nano-2.5.0.png) |\n",
    "|:---:|\n",
    "| \\[1\\] *The GNU Nano text editor* |\n",
    "\n"
   ]
  },
  {
   "cell_type": "markdown",
   "metadata": {},
   "source": [
    "---\n",
    "\n",
    "## Acknowledgements\n",
    "\n",
    "\\[1\\] [GNU Nano](https://www.nano-editor.org/) is distributed under the [GNU Public License](https://www.gnu.org/copyleft/gpl-3.0.html)"
   ]
  }
 ],
 "metadata": {
  "kernelspec": {
   "display_name": "Bash",
   "language": "bash",
   "name": "bash"
  },
  "language_info": {
   "codemirror_mode": "shell",
   "file_extension": ".sh",
   "mimetype": "text/x-sh",
   "name": "bash"
  }
 },
 "nbformat": 4,
 "nbformat_minor": 2
}
