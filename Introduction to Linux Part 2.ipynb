{
 "cells": [
  {
   "cell_type": "markdown",
   "metadata": {},
   "source": [
    "## Text Editors\n",
    "\n",
    "We've seen how to create an empty file using the `touch` command, but to add content we'll need to use a text editor. There are graphical editors available for Linux, but when connected to a Linux machine over a network it's advisable to use a text-based editor that runs in the Linux terminal for improved speed. Frequently, graphical applications are not installed or blocked from running over a network in order to prevent them from hogging the available bandwidth, so it's important to become familiar with a terminal-based text editor for the occasions when that is all there is available.\n",
    "\n",
    "The two we'll be looking at are `nano` and `vim`. The former is simpler and more widely available, so is a good first option for a beginner, but the latter is considerably more powerful, albeit at the cost of added complexity. There are others, such as `emacs`, but that is beyond the scope of this introduction.\n",
    "\n",
    "In order to use a text editor you'll need to have a terminal window open, so launch one now if you haven't already."
   ]
  },
  {
   "cell_type": "markdown",
   "metadata": {},
   "source": [
    "### Nano\n",
    "\n",
    "| ![Nano](img/nano-2.5.0.png) |\n",
    "|:---:|\n",
    "| \\[1\\] *The GNU Nano text editor* |\n",
    "\n",
    "Nano is what is known as a _modeless_ text editor. This means that when you press a key, that text is inserted into the document being edited. Commands are issued by key combinations using the _Ctrl_ and _Alt_ keys. For example, the key combination **Ctrl + X** will exit Nano and drop back to the command prompt.\n",
    "\n",
    "To start editing an empty file, type:\n",
    "```bash\n",
    "nano\n",
    "```\n",
    "To edit an existing file, type:\n",
    "```bash\n",
    "nano myfile.txt\n",
    "```\n",
    "\n",
    "Saving a file is achieved using the **Ctrl + O** combination. If you started Nano without specifying an existing file then you will be asked to enter a filename.\n",
    "\n",
    "It is also possible to pipe output from commands directly into Nano. For example, to create a new document containing the output from the cp help text, type:\n",
    "\n",
    "```bash\n",
    "cp --help | nano -\n",
    "```\n",
    "Notice the `-` argument. This tells Nano to read text from the pipe, rather than from a file.\n",
    "\n",
    "#### Common Commands\n",
    "\n",
    "| Command | Description |\n",
    "|---------|-------------|\n",
    "| **Ctrl-X** | Exit Nano |\n",
    "| **Ctrl-O** | Write File |\n",
    "| **Ctrl-R** | Read File |\n",
    "| **Ctrl-W** | Search for text |\n",
    "| **Ctrl-\\\\** | Replace text |\n"
   ]
  },
  {
   "cell_type": "markdown",
   "metadata": {},
   "source": [
    "### Vim\n",
    "\n",
    "| ![Vim](img/vim.png) |\n",
    "|:---:|\n",
    "| \\[1\\] *The Vim text editor* |\n",
    "\n",
    "Unlike Nano, Vim has separate modes for editing text and entering commands. Vim starts in command mode, and to type text you press the `i` key to enter _insert mode_. When finished press the _Escape_ key to return to command mode. One of the most common mistakes when learning Vim is to start typing text whilst in command mode and inadvertently perform a command.\n",
    "\n",
    "Like Nano, Vim can be started either with an empty document or an existing file. Also, Vim can accept text via piped output:\n",
    "\n",
    "```bash\n",
    "cp --help | vim -\n",
    "```\n",
    "\n",
    "#### Common Commands\n",
    "\n",
    "| Command | Description |\n",
    "|---------|-------------|\n",
    "| **i** | Enter insert mode |\n",
    "| **Esc** | Return to command mode |\n",
    "| **:w** | Write file |\n",
    "| **:r filename** | Read file *filename* |\n",
    "| **/text** | Search for text *text* |\n",
    "| **:q** | Exit Vim |\n",
    "\n",
    "Vim has _many_ more commands than the basic ones listed above, including very sophisticated search and replace tools, but they are beyond the scope of this introduction."
   ]
  },
  {
   "cell_type": "markdown",
   "metadata": {},
   "source": [
    "#### Exercise 4\n",
    "\n",
    "Use Nano to load one of the files in the `examples` folder, edit it, and save it. Optionally try doing the same with Vim, but remember to press the _Escape_ key to return to command mode if you get into difficulty."
   ]
  },
  {
   "cell_type": "markdown",
   "metadata": {},
   "source": [
    "## Redirection\n",
    "\n",
    "When a Linux tool writes output to the screen (for example, the `echo` command) it is actually writing to the _standard output_ (stdout), which is by default displayed on the screen. Likewise, many tools accept content from the _standard input_ (stdin). What we have been doing with pipes is connecting the standard output of one command to he standard input of another. There is another output pipe known as _standard error_ (stderr), which is typically used to output error messages. Like stdout, it is normally output to the screen. We can, however, control where these pipelines send and receive their data to, and this concept is known as _redirection_.\n",
    "\n",
    "### Output\n",
    "\n",
    "Directing standard output to a file is performed using the `>` symbol."
   ]
  },
  {
   "cell_type": "code",
   "execution_count": null,
   "metadata": {},
   "outputs": [],
   "source": [
    "mkdir -p ~/my_test_directory\n",
    "cp --help > ~/my_test_directory/cp_help.txt\n",
    "cat ~/my_test_directory/cp_help.txt"
   ]
  },
  {
   "cell_type": "markdown",
   "metadata": {},
   "source": [
    "Appending to an existing file (i.e. adding to the end without overwriting) can be achieved by using `>>`."
   ]
  },
  {
   "cell_type": "code",
   "execution_count": null,
   "metadata": {},
   "outputs": [],
   "source": [
    "echo \"This was the help output from the cp command\" >> ~/my_test_directory/cp_help.txt\n",
    "cat ~/my_test_directory/cp_help.txt"
   ]
  },
  {
   "cell_type": "markdown",
   "metadata": {},
   "source": [
    "The above commands only redirect standard output, so errors will still appear on the command line. We can redirect errors to a file (for example, for error logging) by using `&>`:"
   ]
  },
  {
   "cell_type": "code",
   "execution_count": null,
   "metadata": {},
   "outputs": [],
   "source": [
    "touch /root_is_read_only.txt &> ~/my_test_directory/write_to_root.err\n",
    "cat ~/my_test_directory/write_to_root.err"
   ]
  },
  {
   "cell_type": "markdown",
   "metadata": {},
   "source": [
    "### Input\n",
    "\n",
    "We've seen examples of how commands can accept standard input (one of the first examples in part one involved piping the output from `echo` to `wc`). Piping from a command means running that command in conjunction with the command the output is piped to, which may not be desirable. Perhaps the output has already been generated. Just as we can write standard output to a file, we can read standard input _from_ a file using the `<` symbol.\n",
    "This example introduces `sed`, the Linux stream editor. It's designed to modify text according to defined rules and can read from standard input. We can redirect standard input from a file and redirect standard output to another file:"
   ]
  },
  {
   "cell_type": "code",
   "execution_count": null,
   "metadata": {},
   "outputs": [],
   "source": [
    "echo \"This is some text that I'm going to transform with the sed command.\" > ~/my_test_directory/text_for_sed.txt\n",
    "sed 's/transform/manipulate/' < ~/my_test_directory/text_for_sed.txt > ~/my_test_directory/text_after_sed.txt\n",
    "cat ~/my_test_directory/text_after_sed.txt"
   ]
  },
  {
   "cell_type": "markdown",
   "metadata": {},
   "source": [
    "#### Exercise 5\n",
    "\n",
    "Can you work out how `sed` is operating in the previous example? Try creating a file with nano and performing a text transformation on it by passing it through sed. Sed is a very powerful tool and the manual may be found [here](https://www.gnu.org/software/sed/manual/sed.html)."
   ]
  },
  {
   "cell_type": "markdown",
   "metadata": {},
   "source": [
    "## File Permissions\n",
    "\n",
    "We've used the `ls` command to list the files in a directory, but we can get more information by using the long format argument, `ls -l`. If you type this in the _examples_ directory you will see a listing like this:\n",
    "```\n",
    "total 12\n",
    "-rwxr-xr-x 1 username users  32 Jun  6 13:09 exec_file.sh\n",
    "-rw-r--r-- 1 username users  36 Jun  4 08:15 test_file1.txt\n",
    "-rw-r--r-- 1 username users 143 Jun  4 08:15 test_file2.txt\n",
    "```\n",
    "This reveals more about our files, and the output can be broken up into sections:\n",
    "\n",
    "| Access permissions | Ownership | File size | Modification time | Filename |\n",
    "|--------------------|-----------|-----------|-------------------|----------|\n",
    "| -rwxr-xr-x | username users | 32 | Jun 6 13:09 | exec_file.sh |\n",
    "\n",
    "We're particularly interested in the access permissions and ownership, because they describe who has permission to perform operations on a particular file. Linux has the concept of three levels of permissions, **owner** rights, **group** rights, and **other**, that is the rights of users who are not part of the previous two categories. When you create a file the owner will be you, and the group will be the default group that you belong to."
   ]
  },
  {
   "cell_type": "markdown",
   "metadata": {},
   "source": [
    "#### Exercise 6\n",
    "\n",
    "List the contents of your home directory in long format and see who your files belong to."
   ]
  },
  {
   "cell_type": "markdown",
   "metadata": {},
   "source": [
    "### Ownership\n",
    "\n",
    "The ownership section of a file consists of two entries:\n",
    "\n",
    "| Owner | Group |\n",
    "|-------|-------|\n",
    "| username | users |\n",
    "\n",
    "In this case the file belongs to _username_, who is a member of the group _users_. We can change the ownership by using the `chown` command:\n",
    "\n",
    "```bash\n",
    "chown newusername:newgroup\n",
    "```\n",
    "\n",
    "Be very careful when using this command as it may result in you being unable to access an important file.\n",
    "\n",
    "\n",
    "### Access Permissions\n",
    "\n",
    "The access permissions section can be further broken up:\n",
    "\n",
    "| File Type | Owner permissions | Group permissions | Universal permissions |\n",
    "|-----------|-------------------|-------------------|-----------------------|\n",
    "| - | rwx | r-x | r-x |\n",
    "\n",
    "The file type shows `d` for directories and `-` for files. Each of the sections shows respectively **R**ead, **W**rite, and e**X**ecute permissions for each category of user. In the case of the file `exec_file.sh` the owner can read from, write to (and delete), and execute (run) the file. Both the owner's group and everybody else can only read and execute the file.\n",
    "To prove you can run it, try doing so. To run a file that's not in one of the system directories (such as /usr/bin/) it needs to be preceeded by the path:"
   ]
  },
  {
   "cell_type": "code",
   "execution_count": null,
   "metadata": {},
   "outputs": [],
   "source": [
    "~/git/linux_intro/examples/exec_file.sh"
   ]
  },
  {
   "cell_type": "markdown",
   "metadata": {},
   "source": [
    "We can change the permissions of the file using the `chmod` command. In its simplest form, we can add permissions for user (u), group (g), or other (o) categories by typing:\n",
    "\n",
    "```bash\n",
    "chmod g+w filename\n",
    "```\n",
    "\n",
    "...or remove them:\n",
    "\n",
    "```bash\n",
    "chmod go-rx filename\n",
    "```\n",
    "\n",
    "The latter case demonstrates changing multiple permissions for multiple categories at the same time."
   ]
  },
  {
   "cell_type": "markdown",
   "metadata": {},
   "source": [
    "#### Exercise 7\n",
    "\n",
    "Try removing executable permissions from the owner (you!) for file `exec_file.sh`. Can you still run it? Can you change them back?"
   ]
  },
  {
   "cell_type": "markdown",
   "metadata": {},
   "source": [
    "## Processes\n",
    "\n",
    "When a Linux command is running it is known as a process and has an associated process id to uniquely identify it. To see which processes are running from the current terminal we can use the `ps` command:"
   ]
  },
  {
   "cell_type": "code",
   "execution_count": null,
   "metadata": {},
   "outputs": [],
   "source": [
    "ps"
   ]
  },
  {
   "cell_type": "markdown",
   "metadata": {},
   "source": [
    "In this case it is just the command interpreter, `bash`, and the ps command itself. The default output from the ps command contains the following columns:\n",
    "\n",
    "| PID | TTY | TIME | CMD |\n",
    "|-----|-----|------|-----|\n",
    "| Process ID | Terminal number (short for **T**ele**TY**pe) | CPU time the process has used (not real time) | Command name |\n",
    "\n",
    "The time used may seem surprising, but remember this is the proportion of the total time available to the computer since the process started, which is shared by all other processes. Modern computers have a lot of processing time available, and an idle terminal window running the ps command takes such a small proportion of it that doesn't even round up to one second."
   ]
  },
  {
   "cell_type": "markdown",
   "metadata": {},
   "source": [
    "### Background Processes\n",
    "\n",
    "A command run from the terminal normally becomes a _foreground_ process, meaning that it's standard input and output are connected to the terminal it's launched from. A text editor like nano is a good example of this. By their nature foreground processes prevent other commands from being run, and if the command takes a long time to run this can prove inconvenient. However, if our command doesn't require any user input we can start it in the background and return to the terminal prompt.\n",
    "\n",
    "A very simple example of a non-interactive process is the `sleep` command. This simply waits for a specified number of seconds before exiting. We have two ways of running it in the background. The first is to end the command line with an ampersand, `&`:"
   ]
  },
  {
   "cell_type": "code",
   "execution_count": null,
   "metadata": {},
   "outputs": [],
   "source": [
    "sleep 300 &"
   ]
  },
  {
   "cell_type": "markdown",
   "metadata": {},
   "source": [
    "This returns the process ID of the command, and we can see it in the process list:"
   ]
  },
  {
   "cell_type": "code",
   "execution_count": null,
   "metadata": {},
   "outputs": [],
   "source": [
    "ps"
   ]
  },
  {
   "cell_type": "markdown",
   "metadata": {},
   "source": [
    "The second way, if for example you have forgotten to start the command in the background is to pause it using the **Ctrl-Z** key combination, and then background it by typing:\n",
    "\n",
    "```bash\n",
    "bg\n",
    "```\n"
   ]
  },
  {
   "cell_type": "markdown",
   "metadata": {},
   "source": [
    "Either way, once the process running in the background it can be switched to the foreground again by typing:\n",
    "\n",
    "```bash\n",
    "fg % ID\n",
    "```\n",
    "...where **ID** is the process ID, for example 12345.\n",
    "\n",
    "If a process running in the background requires user input it will pause until switched to the foreground."
   ]
  },
  {
   "cell_type": "markdown",
   "metadata": {},
   "source": [
    "### Ending processes\n",
    "\n",
    "If a process is running in the foreground it can be sent an _interrupt_ signal (**SIGINT**) by using the key combination **Ctrl-C**. This will generally cause the process to terminate unless it has been written in such a way as to perform a different function when sent SIGINT. If the process is running in the background then it can be terminated by the `kill` command. If a process has an ID of 12345 then the following command will send it an interrupt signal:\n",
    "\n",
    "```bash\n",
    "kill 12345\n",
    "```"
   ]
  },
  {
   "cell_type": "markdown",
   "metadata": {},
   "source": [
    "#### Exercise 8\n",
    "\n",
    "Run a non-interactive command in the background and then kill it before it would naturally finish."
   ]
  },
  {
   "cell_type": "markdown",
   "metadata": {},
   "source": [
    "## Environment Variables\n",
    "\n",
    "A variable is simply a label that can be used to concisely identify information. It's much easier to remember the variable name `ADDRESS` than it is to remember an actual postal address, and as the name suggests, the contents of variable can be changed as required. Linux uses a number of _environment variables_ to control the behaviour of certain programs. The `env` command can be used to see the list of defined environment variables:"
   ]
  },
  {
   "cell_type": "code",
   "execution_count": null,
   "metadata": {},
   "outputs": [],
   "source": [
    "env"
   ]
  },
  {
   "cell_type": "markdown",
   "metadata": {},
   "source": [
    "While most of these are not relevant to the average Linux user, there are some that it is useful to know:\n",
    "\n",
    "| Variable | Description |\n",
    "|----------|-------------|\n",
    "| **USER** | Your username |\n",
    "| **PWD** | The current directory |\n",
    "| **HOME** | Your home directory |\n",
    "| **PATH** | The list of directories that Linux will search for executable files | "
   ]
  },
  {
   "cell_type": "markdown",
   "metadata": {},
   "source": [
    "We can define a variable and query the contents like so:"
   ]
  },
  {
   "cell_type": "code",
   "execution_count": null,
   "metadata": {},
   "outputs": [],
   "source": [
    "MY_NEW_VARIABLE=\"This is some text\"\n",
    "echo ${MY_NEW_VARIABLE}"
   ]
  },
  {
   "cell_type": "markdown",
   "metadata": {},
   "source": [
    "Note that there shouldn't be any spaces anywhere in the variable definition. If our text has spaces in it then they need to be enclosed in quotation marks. The contents of a variable can be obtained (known as _dereferencing_) by preceding the variable name with a dollar size. The `{}` brackets are optional in this case but clearly define the variable name making it easier to read.\n",
    "Setting a variable in this manner makes it available to commands owned by this terminal process. If we want to make it available to any processes launched from this terminal (known as sub-processes) then we'd need to define the variable using the `export` command:"
   ]
  },
  {
   "cell_type": "code",
   "execution_count": null,
   "metadata": {},
   "outputs": [],
   "source": [
    "export MY_NEW_VARIABLE=\"This is some more text\""
   ]
  },
  {
   "cell_type": "markdown",
   "metadata": {},
   "source": [
    "As a rule of thumb, if variable is temporary, such a loop counter, then restrict it to the current terminal. If it's going to be used by other tasks, such as setting a location for our research data, then `EXPORT` it.\n",
    "One you are likly to come across regularly is`PATH`:"
   ]
  },
  {
   "cell_type": "code",
   "execution_count": null,
   "metadata": {},
   "outputs": [],
   "source": [
    "echo ${PATH}"
   ]
  },
  {
   "cell_type": "markdown",
   "metadata": {},
   "source": [
    "When we run a command like `cp` or `echo`, Linux will search for it in the directories listed in `PATH`. If our command is not in `PATH` then Linux won't be able to find it. Sometimes when software is installed in non-standard locations, the installer command will add a location to this variable, and if we have written some code that is located in our home directory then we'll either need to specify the full path to it every time we want to run it or add that directory to `PATH`. "
   ]
  },
  {
   "cell_type": "markdown",
   "metadata": {},
   "source": [
    "## Environment Configuration"
   ]
  },
  {
   "cell_type": "markdown",
   "metadata": {},
   "source": [
    "---\n",
    "\n",
    "## Acknowledgements\n",
    "\n",
    "\\[1\\] [GNU Nano](https://www.nano-editor.org/) and [Vim](https://www.vim.org/) are distributed under the [GNU Public License](https://www.gnu.org/copyleft/gpl-3.0.html)"
   ]
  }
 ],
 "metadata": {
  "kernelspec": {
   "display_name": "Bash",
   "language": "bash",
   "name": "bash"
  },
  "language_info": {
   "codemirror_mode": "shell",
   "file_extension": ".sh",
   "mimetype": "text/x-sh",
   "name": "bash"
  }
 },
 "nbformat": 4,
 "nbformat_minor": 2
}
