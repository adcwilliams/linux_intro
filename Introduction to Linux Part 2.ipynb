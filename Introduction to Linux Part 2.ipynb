{
 "cells": [
  {
   "cell_type": "markdown",
   "metadata": {},
   "source": [
    "## Text Editors\n",
    "\n",
    "We've seen how to create an empty file using the `touch` command, but to add content we'll need to use a text editor. There are graphical editors available for Linux, but when connected to a Linux machine over a network it's advisable to use a text-based editor that runs in the Linux terminal for improved speed. Frequently, graphical applications are not installed or blocked from running over a network in order to prevent them from hogging the available bandwidth, so it's important to become familiar with a terminal-based text editor for the occasions when that is all there is available.\n",
    "\n",
    "The two we'll be looking at are `nano` and `vim`. The former is simpler and more widely available, so is a good first option for a beginner, but the latter is considerably more powerful, albeit at the cost of added complexity. There are others, such as `emacs`, but that is beyond the scope of this introduction.\n",
    "\n",
    "In order to use a text editor you'll need to have a terminal window open, so launch one now if you haven't already."
   ]
  },
  {
   "cell_type": "markdown",
   "metadata": {},
   "source": [
    "### Nano\n",
    "\n",
    "| ![Nano](img/nano-2.5.0.png) |\n",
    "|:---:|\n",
    "| \\[1\\] *The GNU Nano text editor* |\n",
    "\n",
    "Nano is what is known as a _modeless_ text editor. This means that when you press a key, that text is inserted into the document being edited. Commands are issued by key combinations using the _Ctrl_ and _Alt_ keys. For example, the key combination **Ctrl + X** will exit Nano and drop back to the command prompt.\n",
    "\n",
    "To start editing an empty file, type:\n",
    "```bash\n",
    "nano\n",
    "```\n",
    "To edit an existing file, type:\n",
    "```bash\n",
    "nano myfile.txt\n",
    "```\n",
    "\n",
    "Saving a file is achieved using the **Ctrl + O** combination. If you started Nano without specifying an existing file then you will be asked to enter a filename.\n",
    "\n",
    "It is also possible to pipe output from commands directly into Nano. For example, to create a new document containing the output from the cp help text, type:\n",
    "\n",
    "```bash\n",
    "cp --help | nano -\n",
    "```\n",
    "Notice the `-` argument. This tells Nano to read text from the pipe, rather than from a file.\n",
    "\n",
    "#### Common Commands\n",
    "\n",
    "| Command | Description |\n",
    "|---------|-------------|\n",
    "| **Ctrl-X** | Exit Nano |\n",
    "| **Ctrl-O** | Write File |\n",
    "| **Ctrl-R** | Read File |\n",
    "| **Ctrl-W** | Search for text |\n",
    "| **Ctrl-\\\\** | Replace text |\n"
   ]
  },
  {
   "cell_type": "markdown",
   "metadata": {},
   "source": [
    "### Vim\n",
    "\n",
    "| ![Vim](img/vim.png) |\n",
    "|:---:|\n",
    "| \\[1\\] *The Vim text editor* |\n",
    "\n",
    "Unlike Nano, Vim has separate modes for editing text and entering commands. Vim starts in command mode, and to type text you press the `i` key to enter _insert mode_. When finished press the _Escape_ key to return to command mode. One of the most common mistakes when learning Vim is to start typing text whilst in command mode and inadvertently perform a command.\n",
    "\n",
    "Like Nano, Vim can be started either with an empty document or an existing file. Also, Vim can accept text via piped output:\n",
    "\n",
    "```bash\n",
    "cp --help | vim -\n",
    "```\n",
    "\n",
    "#### Common Commands\n",
    "\n",
    "| Command | Description |\n",
    "|---------|-------------|\n",
    "| **i** | Enter insert mode |\n",
    "| **Esc** | Return to command mode |\n",
    "| **:w** | Write file |\n",
    "| **:r filename** | Read file *filename* |\n",
    "| **/text** | Search for text *text* |\n",
    "| **:q** | Exit Vim |\n",
    "\n",
    "Vim has _many_ more commands than the basic ones listed above, including very sophisticated search and replace tools, but they are beyond the scope of this introduction."
   ]
  },
  {
   "cell_type": "markdown",
   "metadata": {},
   "source": [
    "#### Exercise 4\n",
    "\n",
    "Use Nano to load one of the files in the `examples` folder, edit it, and save it. Optionally try doing the same with Vim, but remember to press the _Escape_ key to return to command mode if you get into difficulty."
   ]
  },
  {
   "cell_type": "markdown",
   "metadata": {},
   "source": [
    "---\n",
    "\n",
    "## Acknowledgements\n",
    "\n",
    "\\[1\\] [GNU Nano](https://www.nano-editor.org/) and [Vim](https://www.vim.org/) are distributed under the [GNU Public License](https://www.gnu.org/copyleft/gpl-3.0.html)"
   ]
  },
  {
   "cell_type": "code",
   "execution_count": null,
   "metadata": {},
   "outputs": [],
   "source": []
  }
 ],
 "metadata": {
  "kernelspec": {
   "display_name": "Bash",
   "language": "bash",
   "name": "bash"
  },
  "language_info": {
   "codemirror_mode": "shell",
   "file_extension": ".sh",
   "mimetype": "text/x-sh",
   "name": "bash"
  }
 },
 "nbformat": 4,
 "nbformat_minor": 2
}
