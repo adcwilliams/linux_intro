{
 "cells": [
  {
   "cell_type": "markdown",
   "metadata": {},
   "source": [
    "## Shell Scripting\n",
    "\n",
    "So far we've seen the **BASH** shell used as a command interpreter and introduced the concept of variables. BASH is rather more than just an interpreter, however, and has a number of features of a programming language. It can be used to automate tasks in a reproducible manner by writing a _shell script_, essentially a collection of shell commands stored in a text file with the  _executable_ bit set. Shell scripts generally have the `.sh` filename extension.\n",
    "\n",
    "### The Structure of a Script\n",
    "\n",
    "A typical shell script has the following format:\n",
    "\n",
    "```bash\n",
    "#!/bin/bash\n",
    "#\n",
    "# Description of my shell script\n",
    "\n",
    "echo \"Hello from a shell script\"\n",
    "```\n",
    "\n",
    "This very simple example has three sections:\n",
    "\n",
    " * The invocation line, `#!/bin/bash`. This line tells Linux which command interpreter we want to use to execute the following commands. There are other shell interpreters, but BASH is by far the most common.\n",
    " * Comments describing what the script does. Comment lines in BASH are prefixed by a `#` symbol.\n",
    " * The main body of the script that performs the intended functions. In this case it simply prints a message to the standard output.\n",
    "\n",
    "In the examples that follow, whenever you want to write a shell script simply use your favourite text editor to create a file. It doesn't matter what the file is called but if the script is part of an exercise it will be convenient to name it `exercise-x.sh`, where `x` is the exercise number. Remember to ensure that the script is marked as executable before you run it. If you haven't already created a directory to contain your work then do so now."
   ]
  },
  {
   "cell_type": "markdown",
   "metadata": {},
   "source": [
    "#### Exercise 11\n",
    "\n",
    "Create a script shell script called `exercise-11.sh`, set it to be executable, and copy the above code snippet into it. Can you run it?"
   ]
  },
  {
   "cell_type": "markdown",
   "metadata": {},
   "source": [
    "### Conditional Operations\n",
    "\n",
    "One of the most powerful features of a genuine programming language is the ability to change its function depending on conditions. BASH has this feature in the form of the `if` statement:"
   ]
  },
  {
   "cell_type": "code",
   "execution_count": null,
   "metadata": {},
   "outputs": [],
   "source": [
    "# Set our target date equal to the 19th June 2018\n",
    "mydate=180619\n",
    "\n",
    "# Perform a scheduled function on the 19th June 2018\n",
    "if [ $(date +%y%m%d) = ${mydate} ]\n",
    "then\n",
    "  echo \"Do something on the 19th\"\n",
    "else\n",
    "  echo \"It's not the 19th, so don't do anything\"\n",
    "fi"
   ]
  },
  {
   "cell_type": "markdown",
   "metadata": {},
   "source": [
    "In this example we:\n",
    "\n",
    " * Set a date when we want to perform a task.\n",
    " * Test whether the current date is equal to the specified date.\n",
    " * If it is, then we perform the task. If not perform a different task.\n",
    "\n",
    "The code in `[ square brackets ]` is a _logical comparison_ intended to give either of two answers, **true** or **false**, so in the simplest possible terms our code looks like this:\n",
    "\n",
    "```bash\n",
    "if [ TRUE ]\n",
    "then\n",
    "  task A\n",
    "else\n",
    "  task B\n",
    "fi\n",
    "```\n",
    "\n",
    "If we don't want anything to happen if the comparison is false then we can simplify the code still further:\n",
    "\n",
    "```bash\n",
    "if [ TRUE ]\n",
    "then\n",
    "  task A\n",
    "fi\n",
    "```\n",
    "\n",
    "Our comparison demonstrates two methods of determining a value. The first, dereferencing the variable `${mydate}`, we're already familiar with. The second, placing a command within `(brackets)` and prefixing it with a `$` actually runs that command and captures the output, which can either be assigned to a variable or, in this case, used directly. We can see what output the `date` command is generating by running it directly:"
   ]
  },
  {
   "cell_type": "code",
   "execution_count": null,
   "metadata": {},
   "outputs": [],
   "source": [
    "date +%y%m%d"
   ]
  },
  {
   "cell_type": "markdown",
   "metadata": {},
   "source": [
    "#### Types of Comparisons\n",
    "\n",
    "A curious feature of shell variables is that they don't have a defined type, such as _integer_, or _string_, or _floating point number_. Rather, the shell interprets their type depending on the context. In this case we are using the `=` operator to compare the result of the `date` command and `${mydate}` as strings. We can also use the `-eq` operator to compare the two values as numbers. This is a list of common comparison operators, both for treating variables as strings, and as integers:\n",
    "\n",
    "| Comparison | String | Integer |\n",
    "|------------|--------|---------|\n",
    "| Equal to | `=` | `-eq` |\n",
    "| Not equal to | `!=` | `-ne` |\n",
    "| Greater than | `>` | `-gt` |\n",
    "| Greater than or equal to | | `-ge` |\n",
    "| Less than | `<` | `-lt` |\n",
    "| Less than or equal to | | `-le` |"
   ]
  },
  {
   "cell_type": "markdown",
   "metadata": {},
   "source": [
    "#### Exercise 12\n",
    "\n",
    "A test for whether a number is greater than another is easy to conceptualise, but how would you expect the equivalent string comparison to operate? Either in a script or in a Jupyter notebook test how the comparison operators deal with numbers and strings."
   ]
  },
  {
   "cell_type": "markdown",
   "metadata": {},
   "source": [
    "### Loops\n",
    "\n",
    "Loops are a way of repeating a series of operations, potentially using different data. A simple example of a `for` loop is shown below: "
   ]
  },
  {
   "cell_type": "code",
   "execution_count": null,
   "metadata": {},
   "outputs": [],
   "source": [
    "for number in {1..10}\n",
    "do\n",
    "  echo \"I am printing number ${number}\"\n",
    "done"
   ]
  },
  {
   "cell_type": "markdown",
   "metadata": {},
   "source": [
    "#### The FOR loop\n",
    "\n",
    "The structure of a `for` loop looks like this:\n",
    "\n",
    "```bash\n",
    "for VARIABLE in LIST\n",
    "do\n",
    "  TASK 1\n",
    "  TASK 2\n",
    "  ..\n",
    "  TASK N\n",
    "done\n",
    "```\n",
    "\n",
    "The LIST is simply a set of values separated by spaces. The `for` loop selects each in turn, stores it in the variable VARIABLE, and then executes a series of commands. When it comes to the end it returns to the top, selects the next value from LIST, executes the commands, and keeps doing this until the the values in LIST runs out. In the above example the structure `{1..10}` expands to `1 2 3 4 5 6 7 8 9 10`, so we could re-write it as:"
   ]
  },
  {
   "cell_type": "code",
   "execution_count": null,
   "metadata": {},
   "outputs": [],
   "source": [
    "for number in 1 2 3 4 5 6 7 8 9 10\n",
    "do\n",
    "  echo \"I am printing number ${number}\"\n",
    "done"
   ]
  },
  {
   "cell_type": "markdown",
   "metadata": {},
   "source": [
    "...or indeed:"
   ]
  },
  {
   "cell_type": "code",
   "execution_count": null,
   "metadata": {},
   "outputs": [],
   "source": [
    "for number in 1 25 \"hello\" \"This is the BASH shell\" 40000\n",
    "do\n",
    "  echo \"I am printing number ${number}\"\n",
    "done"
   ]
  },
  {
   "cell_type": "markdown",
   "metadata": {},
   "source": [
    "Notice that collections of space-separated elements enclosed by `\"quotation marks\"` are treated as a single element, and we can mix integers and strings without consequence."
   ]
  },
  {
   "cell_type": "markdown",
   "metadata": {},
   "source": [
    "#### Exercise 13\n",
    "\n",
    "The `for` loop operates on any list of space-separated values. Can you think of any standard Linux tools that return such a list? Try using such a tool in place of the LIST and perform an operation on each of the VARIABLEs that is returned."
   ]
  },
  {
   "cell_type": "markdown",
   "metadata": {},
   "source": [
    "#### The WHILE loop\n",
    "\n",
    "A `while` loop also iterates over a series of values, but unlike the `for` loop where we can specify a range:"
   ]
  },
  {
   "cell_type": "code",
   "execution_count": null,
   "metadata": {},
   "outputs": [],
   "source": [
    "count=0\n",
    "while [ ${count} -ne 10 ]\n",
    "do\n",
    "  echo \"Count is ${count}\"\n",
    "  count=$((count+1))\n",
    "done"
   ]
  },
  {
   "cell_type": "markdown",
   "metadata": {},
   "source": [
    "The structure looks like this:\n",
    "\n",
    "```bash\n",
    "while CONDITION\n",
    "do\n",
    "  TASK 1\n",
    "  TASK 2\n",
    "  ..\n",
    "  TASK N\n",
    "done\n",
    "```\n",
    "\n",
    "The CONDITION is specified in the same format as that provided to the `if` statement, and the loop will keep repeating as long as that condition is true. In our example we increment the value of the variable `count` every time we go through the loop so that eventually the CONDITION becomes false.\n",
    "This example introduces **integer arithmetic** using the shell. If we want to perform a calculation then it must be enclosed within `((double brackets))` and prefixed by a `$` sign. For example:"
   ]
  },
  {
   "cell_type": "code",
   "execution_count": null,
   "metadata": {},
   "outputs": [],
   "source": [
    "x=2\n",
    "y=7\n",
    "z=$((x*y))\n",
    "echo \"The result is ${z}\""
   ]
  },
  {
   "cell_type": "markdown",
   "metadata": {},
   "source": [
    "This freedom to operate over a large range of values and define how `${count}` is incremented for each iteration (known as the _stride_) provides additional flexibility over the `for` loop, but does more manual control and leaves open the possibility of loops that don't successfully complete."
   ]
  },
  {
   "cell_type": "markdown",
   "metadata": {},
   "source": [
    "#### Exercise 14\n",
    "\n",
    "The above `while` example loop will increment `${count}` by 1 each time through the loop and terminate when `${count}` equals 10. What would happen if you incremented `${count}` by 3 each time? Be very careful if you want to try this! What conditional operators could solve this potential problem? "
   ]
  },
  {
   "cell_type": "markdown",
   "metadata": {},
   "source": [
    "#### The UNTIL loop\n",
    "\n",
    "The `until` loop looks and operates very similarly to the `while` loop:"
   ]
  },
  {
   "cell_type": "code",
   "execution_count": null,
   "metadata": {},
   "outputs": [],
   "source": [
    "count=0\n",
    "until [ ${count} -gt 10 ]\n",
    "do\n",
    "  echo \"Count is ${count}\"\n",
    "  count=$((count+1))\n",
    "done"
   ]
  },
  {
   "cell_type": "markdown",
   "metadata": {},
   "source": [
    "The main difference is that it operates `until` a condition is met instead off `while` a condition is met."
   ]
  },
  {
   "cell_type": "markdown",
   "metadata": {},
   "source": [
    "### Command Line Arguments\n",
    "\n",
    "If we want to write a script that performs an operation on a set of files, we have two options:\n",
    "\n",
    " * Write those filenames directly into the script.\n",
    " * Allow the filenames to be passed to the script at the command line.\n",
    "\n",
    "The former might be suitable for a one-off task, but the latter allows for code re-usability. We don't have to keep editing the script every time we want to change the list of files. For example:\n",
    "\n",
    "```bash\n",
    "#!/bin/bash\n",
    "#\n",
    "# Print the first two arguments\n",
    "echo \"The first two arguments are $1 and $2\"\n",
    "\n",
    "# Loop over the list of arguments and perform an operation with each\n",
    "for arg in $@\n",
    "do\n",
    "  echo \"Argument: ${arg}\"\n",
    "done\n",
    "```\n",
    "\n",
    "The command line arguments are passed to the script as unusual-looking variables, `$1`, `$2`, etc..., where the number is the position of the argument on the command line. Because these variables are not descriptive it is common to re-allocate them to a variable with a more memorable name. There are other variables passed along with the command line arguments that may prove useful:\n",
    "\n",
    "| Argument | Description |\n",
    "|----------|-------------|\n",
    "| `$0` | The name of the script that is being run |\n",
    "| `$1`..`$n` | n numbered variables corresponding to the command line arguments |\n",
    "| `$@` | The full list of arguments |\n",
    "| `$#` | The total number of arguments |"
   ]
  },
  {
   "cell_type": "markdown",
   "metadata": {},
   "source": [
    "#### Exercise 15\n",
    "\n",
    "Copy the above command line argument example into a script and run it as follows:\n",
    "```bash\n",
    "./exercise-15.sh first second third\n",
    "```\n",
    "Create three files with text in them and print them out, using `sed` to replace any instances of the word _date_ with the actual date."
   ]
  }
 ],
 "metadata": {
  "kernelspec": {
   "display_name": "Bash",
   "language": "bash",
   "name": "bash"
  },
  "language_info": {
   "codemirror_mode": "shell",
   "file_extension": ".sh",
   "mimetype": "text/x-sh",
   "name": "bash"
  }
 },
 "nbformat": 4,
 "nbformat_minor": 2
}
