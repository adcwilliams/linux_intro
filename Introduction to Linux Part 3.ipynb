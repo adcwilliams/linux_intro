{
 "cells": [
  {
   "cell_type": "markdown",
   "metadata": {},
   "source": [
    "## Shell Scripting\n",
    "\n",
    "So far we've seen the **BASH** shell used as a command interpreter and introduced the concept of variables. BASH is rather more than just an interpreter, however, and has a number of features of a programming language. It can be used to automate tasks in a reproducible manner by writing a _shell script_, essentially a collection of shell commands stored in a text file with the  _executable_ bit set. Shell scripts generally have the `.sh` filename extension.\n",
    "\n",
    "### The Structure of a Script\n",
    "\n",
    "A typical shell script has the following format:\n",
    "\n",
    "```bash\n",
    "#!/bin/bash\n",
    "#\n",
    "# Description of my shell script\n",
    "\n",
    "echo \"Hello from a shell script\"\n",
    "```\n",
    "\n",
    "This very simple example has three sections:\n",
    "\n",
    " * The invocation line, `#!/bin/bash`. This line tells Linux which command interpreter we want to use to execute the following commands. There are other shell interpreters, but BASH is by far the most common.\n",
    " * Comments describing what the script does. Comment lines in BASH are prefixed by a `#` symbol.\n",
    " * The main body of the script that performs the intended functions. In this case it simply prints a message to the standard output.\n",
    "\n",
    "In the examples that follow, whenever you want to write a shell script simply use your favourite text editor to create a file. It doesn't matter what the file is called but if the script is part of an exercise it will be convenient to name it `exercise-x.sh`, where `x` is the exercise number. Remember to ensure that the script is marked as executable before you run it. If you haven't already created a directory to contain your work then do so now."
   ]
  },
  {
   "cell_type": "markdown",
   "metadata": {},
   "source": [
    "#### Exercise 11\n",
    "\n",
    "Create a script shell script called `exercise-11.sh`, set it to be executable, and copy the above code snippet into it. Can you run it?"
   ]
  },
  {
   "cell_type": "markdown",
   "metadata": {},
   "source": [
    "### Conditional Operations\n",
    "\n",
    "One of the most powerful features of a genuine programming language is the ability to change its function depending on conditions. BASH has this feature in the form of the `if` statement:"
   ]
  },
  {
   "cell_type": "code",
   "execution_count": null,
   "metadata": {},
   "outputs": [],
   "source": [
    "# Set our target date equal to the 19th June 2018\n",
    "mydate=180619\n",
    "\n",
    "# Perform a scheduled function on the 19th June 2018\n",
    "if [ $(date +%y%m%d) = ${mydate} ]\n",
    "then\n",
    "  echo \"Do something on the 19th\"\n",
    "else\n",
    "  echo \"It's not the 19th, so don't do anything\"\n",
    "fi"
   ]
  },
  {
   "cell_type": "markdown",
   "metadata": {},
   "source": [
    "In this example we:\n",
    "\n",
    " * Set a date when we want to perform a task.\n",
    " * Test whether the current date is equal to the specified date.\n",
    " * If it is, then we perform the task. If not perform a different task.\n",
    "\n",
    "The code in `[ square brackets ]` is a _logical comparison_ intended to give either of two answers, **true** or **false**, so in the simplest possible terms our code looks like this:\n",
    "\n",
    "```bash\n",
    "if [ TRUE ]\n",
    "then\n",
    "  task A\n",
    "else\n",
    "  task B\n",
    "fi\n",
    "```\n",
    "\n",
    "If we don't want anything to happen if the comparison is false then we can simplify the code still further:\n",
    "\n",
    "```bash\n",
    "if [ TRUE ]\n",
    "then\n",
    "  task A\n",
    "fi\n",
    "```\n",
    "\n",
    "Our comparison demonstrates two methods of determining a value. The first, dereferencing the variable `${mydate}`, we're already familiar with. The second, placing a command within `(brackets)` and prefixing it with a `$` actually runs that command and captures the output, which can either be assigned to a variable or, in this case, used directly. We can see what output the `date` command is generating by running it directly:"
   ]
  },
  {
   "cell_type": "code",
   "execution_count": null,
   "metadata": {},
   "outputs": [],
   "source": [
    "date +%y%m%d"
   ]
  },
  {
   "cell_type": "code",
   "execution_count": null,
   "metadata": {},
   "outputs": [],
   "source": []
  }
 ],
 "metadata": {
  "kernelspec": {
   "display_name": "Bash",
   "language": "bash",
   "name": "bash"
  },
  "language_info": {
   "codemirror_mode": "shell",
   "file_extension": ".sh",
   "mimetype": "text/x-sh",
   "name": "bash"
  }
 },
 "nbformat": 4,
 "nbformat_minor": 2
}
