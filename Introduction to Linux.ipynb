{
 "cells": [
  {
   "cell_type": "markdown",
   "metadata": {},
   "source": [
    "![Tux Logo](img/Tux.png)\n",
    "# Introduction to Linux\n",
    "\n",
    "This short course is designed as an introduction to the Linux operating system for those who have little or no experience of using it. The aim will be to introduce the core concepts of what Linux is and can do, along with the standard array of tools and commands that will be available. More advanced concepts include shell scripting, which is an important skill for those writing job submission scripts intended to run on _High Performance Computing_ (HPC) systems."
   ]
  },
  {
   "cell_type": "markdown",
   "metadata": {},
   "source": [
    "## What is an Operating System?\n",
    "\n",
    "An operating system acts as an interface between the applications, such as a web browser or Python data processing script, and the physical hardware, such as memory, filesystems and peripherals. It shares access to the hardware such that multiple applications and multiple users can use a single computer at the same time.\n",
    "Familiar operating systems include Windows, MacOS, Linux, and Android.\n",
    "Linux is not directly descended from the earlier **UNIX** operating system, but it is frequently described as UNIX-like."
   ]
  },
  {
   "cell_type": "markdown",
   "metadata": {},
   "source": [
    "## The Role of Linux\n",
    "\n",
    "While Linux is sometimes encountered as a desktop operating system with a graphical interface similar to Windows, in research environments it is more frequently used "
   ]
  },
  {
   "cell_type": "code",
   "execution_count": null,
   "metadata": {},
   "outputs": [],
   "source": []
  }
 ],
 "metadata": {
  "kernelspec": {
   "display_name": "Bash",
   "language": "bash",
   "name": "bash"
  },
  "language_info": {
   "codemirror_mode": "shell",
   "file_extension": ".sh",
   "mimetype": "text/x-sh",
   "name": "bash"
  }
 },
 "nbformat": 4,
 "nbformat_minor": 2
}
