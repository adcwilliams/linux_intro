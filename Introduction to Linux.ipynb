{
 "cells": [
  {
   "cell_type": "markdown",
   "metadata": {},
   "source": [
    "![Tux Logo](img/Tux.png)\n",
    "# Introduction to Linux\n",
    "\n",
    "This short course is designed as an introduction to the Linux operating system for those who have little or no experience of using it. The aim will be to introduce the core concepts of what Linux is and can do, along with the standard array of tools and commands that will be available. More advanced concepts include shell scripting, which is an important skill for those writing job submission scripts intended to run on _High Performance Computing_ (HPC) systems."
   ]
  },
  {
   "cell_type": "markdown",
   "metadata": {},
   "source": [
    "## What is an Operating System?\n",
    "\n",
    "An operating system acts as an interface between the applications, such as a web browser or Python data processing script, and the physical hardware, such as memory, filesystems and peripherals. It shares access to the hardware such that multiple applications and multiple users can use a single computer at the same time.\n",
    "Familiar operating systems include Windows, MacOS, Linux, and Android.\n",
    "Linux is not directly descended from the earlier **UNIX** operating system, but it is frequently described as UNIX-like."
   ]
  },
  {
   "cell_type": "markdown",
   "metadata": {},
   "source": [
    "## The Role of Linux\n",
    "\n",
    "While Linux is often encountered as a desktop operating system with a graphical interface similar to Windows, in research environments it is more frequently used as a server or HPC operating system, accessible either primarily or solely via a network. A machine such as this typically has a high workload, and to avoid overloading such a system applications (or _jobs_) typically run under a job scheduler which queues them until there are processor and memory resources available for them to run. Displaying graphical applications over a network generally stresses both the network and the machine running the application, so for efficiency tools tend to be text-based.\n",
    "These two factors determine that a typical job running on a Linux HPC system will be:\n",
    " * _Non-Interactive_: It can run without user intervention, generally by reading and writing data to files.\n",
    " * _Text-Based_: Informative output is of the form of plain text rather than graphical windows.\n",
    " \n",
    "This means that when using Linux it is important to be comfortable with controlling it via a command line interface, known as the **Shell** like this:"
   ]
  },
  {
   "cell_type": "code",
   "execution_count": null,
   "metadata": {},
   "outputs": [],
   "source": [
    "echo \"Greetings from the Linux command line\""
   ]
  },
  {
   "cell_type": "markdown",
   "metadata": {},
   "source": [
    "`echo` is simply a standard Linux command that prints to the screen. Try changing the message and running it again. The command is typical of the Linux philosophy in that it performs a single task well, but we can chain commands together via _pipes_ to make more complex functions. For example, if we chain the echo command to the `wc` (word count) command we can now count the number of words in a sentence:"
   ]
  },
  {
   "cell_type": "code",
   "execution_count": null,
   "metadata": {},
   "outputs": [],
   "source": [
    "echo \"How many words in this sentence?\" | wc -w"
   ]
  },
  {
   "cell_type": "markdown",
   "metadata": {},
   "source": [
    "Well encounter many examples of this kind of output (and input) redirection as we go along and see how flexible it is for building workflows."
   ]
  },
  {
   "cell_type": "markdown",
   "metadata": {},
   "source": [
    "## Logging on to Linux\n",
    "\n",
    "To log in to a Linux machine you will need a username and password. If you've installed Linux on your own machine you'll have the opportunity to choose these yourself; if you are logging in to a shared machine supplied by your institution then these will be provided for you, or can be requested."
   ]
  },
  {
   "cell_type": "markdown",
   "metadata": {},
   "source": [
    "### From another Linux machine or a Mac\n",
    "\n",
    "Linux and Macs both have the `ssh` (secure shell) for connecting via a terminal window. The precise location of the terminal will depend on the version of the operating system in question, but once loaded type:"
   ]
  },
  {
   "cell_type": "markdown",
   "metadata": {},
   "source": [
    "`ssh aw1234@bigmachine.university.ac.uk`"
   ]
  },
  {
   "cell_type": "markdown",
   "metadata": {},
   "source": [
    "...assuming our username is `aw1234` and the machine we wanted to connect to had a network address of `bigmachine.university.ac.uk`. We'll get asked for our password, and if it is typed in correctly we'll be able to use bigmachine from the terminal just as though we were sitting in front of it."
   ]
  },
  {
   "cell_type": "markdown",
   "metadata": {},
   "source": [
    "### From Windows\n",
    "\n",
    "Windows doesn't have `ssh` built in, but there are tools available that perform the same function. Two of the most popular are [PuTTY](https://www.chiark.greenend.org.uk/~sgtatham/putty/latest.html), which is free and [MobaXterm](https://mobaxterm.mobatek.net/), which is easier to use and has a free version. Full features are only available with the commercial version. If you are at an institution that regularly uses Linux it is likely that you have one of these, or a similar utility, available either preinstalled or available for download."
   ]
  },
  {
   "cell_type": "markdown",
   "metadata": {},
   "source": [
    "### Via a Web Browser\n",
    "\n",
    "This course is available as a [Jupyter](http://jupyter.org/) Notebook, and if using Jupyter it is possible to open a terminal in a browser tab by clicking on the `New` button from the main file browser screen:\n",
    "![New Terminal](img/jupyter_terminal.png)"
   ]
  },
  {
   "cell_type": "markdown",
   "metadata": {},
   "source": [
    "## The Linux Filesystem\n",
    "\n",
    "The Linux filesystem can be visualised as a hierarchy of folders descending from the root directory, `/`. Typically beneath root there are directories for Linux tools, `bin`, system configuration, `etc`, and various others. Files in these directories can generally be read by the average user, but not written to.\n",
    "\n",
    "| ![Linux_Filesystem](img/deb.0403.gif) |\n",
    "|:--:|\n",
    "| \\[1\\] *A typical Linux filesystem tree with user directories separate from system directories.* |\n",
    "\n",
    "Every Linux user has their own home directory for storing files. This is most commonly located in the `home` folder, but may be elsewhere, paricularly on large multi-user systems where home directories may be physically distinct from the rest of the hardware and attached via the network."
   ]
  },
  {
   "cell_type": "markdown",
   "metadata": {},
   "source": [
    "### Finding your way around\n",
    "\n",
    "The location of each file or directory can be represented by a path, starting at the root directory, and with each folder separated by a `/` symbol. For example, the `echo` command we saw earlier has the following path:\n",
    "```bash\n",
    "/usr/bin/echo\n",
    "```\n",
    "To find your current location, type:"
   ]
  },
  {
   "cell_type": "code",
   "execution_count": null,
   "metadata": {},
   "outputs": [],
   "source": [
    "pwd"
   ]
  },
  {
   "cell_type": "markdown",
   "metadata": {},
   "source": [
    "To change to a different directory, type:"
   ]
  },
  {
   "cell_type": "code",
   "execution_count": null,
   "metadata": {},
   "outputs": [],
   "source": [
    "cd /usr/bin"
   ]
  },
  {
   "cell_type": "markdown",
   "metadata": {},
   "source": [
    "File paths are either _relative_ or _absolute_. An absolute path always begins with `/` and represents the full path from the root directory. Relative paths represent a location with respect to the current folder. Referring to **Figure \\[1\\]**, from Bill's 'books' directory, Patrick's 'school' directory is up two levels to _/home_ and then down two levels. This can be represented either as the absolute path:\n",
    "```bash\n",
    "/home/patrick/school\n",
    "```\n",
    "...or the relative path:\n",
    "```bash\\\n",
    "../../home/patrick/school\n",
    "```\n",
    "In Linux, the symbols `.` and `..` represent the current directory and the directory one level up towards root in the hierarchy respectively, so to list the contents of a folder one level higher we could type:"
   ]
  },
  {
   "cell_type": "code",
   "execution_count": null,
   "metadata": {},
   "outputs": [],
   "source": [
    "ls .."
   ]
  },
  {
   "cell_type": "markdown",
   "metadata": {},
   "source": [
    "Finally, each user's home directory is represented by the symbol `~`, so to return home type:"
   ]
  },
  {
   "cell_type": "code",
   "execution_count": null,
   "metadata": {},
   "outputs": [],
   "source": [
    "cd ~"
   ]
  },
  {
   "cell_type": "markdown",
   "metadata": {},
   "source": [
    "#### Exercise 1\n",
    "\n",
    "Explore the filesystem using the `cd`, `ls`, and `pwd` commands. Then return to your home directory."
   ]
  },
  {
   "cell_type": "markdown",
   "metadata": {},
   "source": [
    "### Interacting with Files\n",
    "\n",
    "The most common way to interact with a file is to examine the contents. To see the entire contents of a file we can use the `cat` command, which takes one or more filenames as arguments and displays the contents: "
   ]
  },
  {
   "cell_type": "code",
   "execution_count": null,
   "metadata": {},
   "outputs": [],
   "source": [
    "cat ~/git/linux_intro/examples/test_file1.txt"
   ]
  },
  {
   "cell_type": "markdown",
   "metadata": {},
   "source": [
    "We may not want to see the entire file, particularly if it is very large. In this case we have the `head` and `tail` commands, which display the top and bottom lines of the file. For example, to see the first two lines, type:"
   ]
  },
  {
   "cell_type": "code",
   "execution_count": null,
   "metadata": {},
   "outputs": [],
   "source": [
    "head -n 2 ~/git/linux_intro/examples/test_file1.txt"
   ]
  },
  {
   "cell_type": "markdown",
   "metadata": {},
   "source": [
    "...and the last two lines:"
   ]
  },
  {
   "cell_type": "code",
   "execution_count": null,
   "metadata": {},
   "outputs": [],
   "source": [
    "tail -n 2 ~/git/linux_intro/examples/test_file1.txt"
   ]
  },
  {
   "cell_type": "markdown",
   "metadata": {},
   "source": [
    "#### Excercise 2\n",
    "\n",
    "The `head` and `tail` commands accept piped input and output as we saw earlier. Try using these two commands to display the last two lines out of the first four in *test_file1.txt*."
   ]
  },
  {
   "cell_type": "markdown",
   "metadata": {},
   "source": [
    "### Searching Files\n",
    "\n",
    "We might want to search the contents of files for certain values. For example, assume we have a list of files containing various configuration keys and are only interested in files with a specific key. For this we can use the `grep` command. To search for the word _Linux_ in our example test files we can use: "
   ]
  },
  {
   "cell_type": "code",
   "execution_count": null,
   "metadata": {},
   "outputs": [],
   "source": [
    "grep Linux ~/git/linux_intro/examples/*"
   ]
  },
  {
   "cell_type": "markdown",
   "metadata": {},
   "source": [
    "This reports every time the target word is found, meaning we may see multiple matches per file. If we only want to know whether at least one instance of the target word exists in a file we could pipe the results through the `uniq` command, which strips out repetitions:"
   ]
  },
  {
   "cell_type": "code",
   "execution_count": null,
   "metadata": {},
   "outputs": [],
   "source": [
    "grep Linux ~/git/linux_intro/examples/* | uniq"
   ]
  },
  {
   "cell_type": "markdown",
   "metadata": {},
   "source": [
    "\n",
    "The linux filesystem is case sensitive, meaning that the word _Linux_ is not the same as the word _linux_, but we can ask grep to search for either form by using the `grep -i` argument."
   ]
  },
  {
   "cell_type": "markdown",
   "metadata": {},
   "source": [
    "### Manipulating Files and Directories\n",
    "\n",
    "So far we've displayed lists of files and examined their contents, but we haven't modified the files themselves. The `mkdir` command can be used to create a directory:"
   ]
  },
  {
   "cell_type": "code",
   "execution_count": null,
   "metadata": {},
   "outputs": [],
   "source": [
    "mkdir ~/my_test_directory\n",
    "cd ~/my_test_directory\n",
    "pwd"
   ]
  },
  {
   "cell_type": "markdown",
   "metadata": {},
   "source": [
    "Likewise, the `rmdir` command will delete a directory, but _only if it is empty_. For example, create an empty file in *my_test_directory* using the `touch` command and then attempt to delete the directory:"
   ]
  },
  {
   "cell_type": "code",
   "execution_count": null,
   "metadata": {},
   "outputs": [],
   "source": [
    "cd ~\n",
    "touch ~/my_test_directory/empty_file\n",
    "rmdir ~/my_test_directory"
   ]
  },
  {
   "cell_type": "markdown",
   "metadata": {},
   "source": [
    "Files can be copied using the `cp` command. To copy a file into another directory:"
   ]
  },
  {
   "cell_type": "code",
   "execution_count": null,
   "metadata": {},
   "outputs": [],
   "source": [
    "cd ~/my_test_directory\n",
    "mkdir sub_dir\n",
    "cp empty_file sub_dir/\n",
    "ls sub_dir/"
   ]
  },
  {
   "cell_type": "markdown",
   "metadata": {},
   "source": [
    "The companion command to `cp` is `mv`, which moves a file rather than copying:"
   ]
  },
  {
   "cell_type": "code",
   "execution_count": null,
   "metadata": {},
   "outputs": [],
   "source": [
    "cd ~/my_test_directory\n",
    "touch another_file\n",
    "mv another_file sub_dir/\n",
    "echo \"The contents of sub_dir:\"\n",
    "ls sub_dir/\n",
    "echo \"The contents of my_test_directory:\"\n",
    "ls ~/my_test_directory"
   ]
  },
  {
   "cell_type": "markdown",
   "metadata": {},
   "source": [
    "Linux doesn't have a separate command for renaming files. We simply use `mv` to move a file from one name to another:"
   ]
  },
  {
   "cell_type": "code",
   "execution_count": null,
   "metadata": {},
   "outputs": [],
   "source": [
    "cd ~/my_test_directory\n",
    "touch old_file_name\n",
    "echo \"Directory contents before renaming:\"\n",
    "ls\n",
    "mv old_file_name new_file_name\n",
    "echo \"Directory contents after renaming:\"\n",
    "ls"
   ]
  },
  {
   "cell_type": "markdown",
   "metadata": {},
   "source": [
    "Files can be deleted using the `rm` (remove) command:"
   ]
  },
  {
   "cell_type": "code",
   "execution_count": null,
   "metadata": {},
   "outputs": [],
   "source": [
    "cd ~/my_test_directory\n",
    "touch file_to_be_removed\n",
    "echo \"Directory contents before file is removed:\"\n",
    "ls\n",
    "rm file_to_be_removed\n",
    "echo \"Directory contents after file has been removed:\"\n",
    "ls"
   ]
  },
  {
   "cell_type": "markdown",
   "metadata": {},
   "source": [
    "### Warning!\n",
    "\n",
    "Linux by default doesn't prompt for confirmation when executing any of these commands. So, for example, you might accidentally overwrite a file you have been working on with an empty file of the same name, or delete an important file thanks to a typing error. Both these changes are **permanent**: there is no wastebasket to retrieve deleted files from! Therefore it's useful while you are learning Linux to use the `rm -i` statement, which prompts for every file deletion, or the `-i` or `-n` arguments to `cp` or `mv`, which ask for confirmation of overwrites or silently prevent overwrites respectively."
   ]
  },
  {
   "cell_type": "markdown",
   "metadata": {},
   "source": [
    "#### Exercise 3\n",
    "\n",
    "Create a test directory with a name of your own choosing, copy a file into it, and then remove that file and the test directory. Use the `cp` command to try overwriting a file to confirm that there is no confirmation prompt. Try again with `cp -i` to see the difference."
   ]
  },
  {
   "cell_type": "markdown",
   "metadata": {},
   "source": [
    "## Command Summary\n",
    "\n",
    "| Command | Description |\n",
    "|---------|-------------|\n",
    "| **echo** | Print to the screen |\n",
    "| **pwd** | Display the contents of the current directory |\n",
    "| **cd** | Change to a different directory |\n",
    "| **ls** | List the contents of a directory |\n",
    "| **cat** | Display the contents of a file |\n",
    "| **head** | Display the first _n_ lines of a file |\n",
    "| **tail** | Display the last _n_ lines of a file |\n",
    "| **grep** | Search file or files for a matching pattern |\n",
    "| **mkdir** | Create a directory |\n",
    "| **rmdir** | Remove an _empty_ directory |\n",
    "| **touch** | Create an empty file |\n",
    "| **rm** | Remove a file |\n",
    "| **cp** | Copy a file or directory |\n",
    "| **mv** | Move a file or directory |\n",
    "\n",
    "## Symbol Summary\n",
    "\n",
    "| Symbol | Description |\n",
    "|--------|-------------|\n",
    "| **~** | The current user's home directory |\n",
    "| **/** | The filesystem root directory |\n",
    "| **.** | The current directory |\n",
    "| **..** | The directory one level up from the current directory |"
   ]
  },
  {
   "cell_type": "markdown",
   "metadata": {},
   "source": [
    "---\n",
    "\n",
    "## Acknowledgements\n"
   ]
  },
  {
   "cell_type": "markdown",
   "metadata": {},
   "source": [
    "\\[1\\] Copyright (c) 1999 by Bill McCarty. This material may be distributed only subject to the terms and conditions set forth in the Open Publication License, v1.0 or later"
   ]
  }
 ],
 "metadata": {
  "kernelspec": {
   "display_name": "Bash",
   "language": "bash",
   "name": "bash"
  },
  "language_info": {
   "codemirror_mode": "shell",
   "file_extension": ".sh",
   "mimetype": "text/x-sh",
   "name": "bash"
  }
 },
 "nbformat": 4,
 "nbformat_minor": 2
}
