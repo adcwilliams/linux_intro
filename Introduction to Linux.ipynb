{
 "cells": [
  {
   "cell_type": "markdown",
   "metadata": {},
   "source": [
    "![Tux Logo](img/Tux.png)\n",
    "# Introduction to Linux\n",
    "\n",
    "This short course is designed as an introduction to the Linux operating system for those who have little or no experience of using it. The aim will be to introduce the core concepts of what Linux is and can do, along with the standard array of tools and commands that will be available. More advanced concepts include shell scripting, which is an important skill for those writing job submission scripts intended to run on _High Performance Computing_ (HPC) systems."
   ]
  },
  {
   "cell_type": "markdown",
   "metadata": {},
   "source": [
    "## What is an Operating System?\n",
    "\n",
    "An operating system acts as an interface between the applications, such as a web browser or Python data processing script, and the physical hardware, such as memory, filesystems and peripherals. It shares access to the hardware such that multiple applications and multiple users can use a single computer at the same time.\n",
    "Familiar operating systems include Windows, MacOS, Linux, and Android.\n",
    "Linux is not directly descended from the earlier **UNIX** operating system, but it is frequently described as UNIX-like."
   ]
  },
  {
   "cell_type": "markdown",
   "metadata": {},
   "source": [
    "## The Role of Linux\n",
    "\n",
    "While Linux is often encountered as a desktop operating system with a graphical interface similar to Windows, in research environments it is more frequently used as a server or HPC operating system, accessible either primarily or solely via a network. A machine such as this typically has a high workload, and to avoid overloading such a system applications (or _jobs_) typically run under a job scheduler which queues them until there are processor and memory resources available for them to run. Displaying graphical applications over a network generally stresses both the network and the machine running the application, so for efficiency tools tend to be text-based.\n",
    "These two factors determine that a typical job running on a Linux HPC system will be:\n",
    " * _Non-Interactive_: It can run without user intervention, generally by reading and writing data to files.\n",
    " * _Text-Based_: Informative output is of the form of plain text rather than graphical windows.\n",
    " \n",
    "This means that when using Linux it is important to be comfortable with controlling it via a command line interface, known as the **Shell** like this:"
   ]
  },
  {
   "cell_type": "code",
   "execution_count": 5,
   "metadata": {},
   "outputs": [
    {
     "name": "stdout",
     "output_type": "stream",
     "text": [
      "Greetings from the Linux command line!\n"
     ]
    }
   ],
   "source": [
    "echo \"Greetings from the Linux command line!\""
   ]
  },
  {
   "cell_type": "markdown",
   "metadata": {},
   "source": [
    "`echo` is simply a standard Linux command that prints to the screen. Try changing the message and running it again. The command is typical of the Linux philosophy in that it performs a single task well, but we can chain commands together via _pipes_ to make more complex functions. For example, if we chain the echo command to the `wc` (word count) command we can now count the number of words in a sentence:"
   ]
  },
  {
   "cell_type": "code",
   "execution_count": 7,
   "metadata": {},
   "outputs": [
    {
     "name": "stdout",
     "output_type": "stream",
     "text": [
      "6\n"
     ]
    }
   ],
   "source": [
    "echo \"How many words in this sentence?\" | wc -w"
   ]
  },
  {
   "cell_type": "markdown",
   "metadata": {},
   "source": [
    "Well encounter many examples of this kind of output (and input) redirection as we go along and see how flexible it is for building workflows."
   ]
  },
  {
   "cell_type": "markdown",
   "metadata": {},
   "source": [
    "## Logging on to Linux\n",
    "\n",
    "To log in to a Linux machine you will need a username and password. If you've installed Linux on your own machine you'll have the opportunity to choose these yourself; if you are logging in to a shared machine supplied by your institution then these will be provided for you, or can be requested."
   ]
  },
  {
   "cell_type": "markdown",
   "metadata": {},
   "source": [
    "### From another Linux machine or a Mac\n",
    "\n",
    "Linux and Macs both have the `ssh` (secure shell) for connecting via a terminal window. The precise location of the terminal will depend on the version of the operating system in question, but once loaded type:"
   ]
  },
  {
   "cell_type": "markdown",
   "metadata": {},
   "source": [
    "`ssh aw1234@bigmachine.university.ac.uk`"
   ]
  },
  {
   "cell_type": "markdown",
   "metadata": {},
   "source": [
    "...assuming our username is `aw1234` and the machine we wanted to connect to had a network address of `bigmachine.university.ac.uk`. We'll get asked for our password, and if it is typed in correctly we'll be able to use bigmachine from the terminal just as though we were sitting in front of it."
   ]
  },
  {
   "cell_type": "markdown",
   "metadata": {},
   "source": [
    "### From Windows\n",
    "\n",
    "Windows doesn't have `ssh` built in, but there are tools available that perform the same function. Two of the most popular are [PuTTY](https://www.chiark.greenend.org.uk/~sgtatham/putty/latest.html), which is free and [MobaXterm](https://mobaxterm.mobatek.net/), which is easier to use and has a free version. Full features are only available with the commercial version. If you are at an institution that regularly uses Linux it is likely that you have one of these, or a similar utility, available either preinstalled or available for download."
   ]
  },
  {
   "cell_type": "markdown",
   "metadata": {},
   "source": [
    "### Via a Web Browser\n",
    "\n",
    "This course is available as a [Jupyter](http://jupyter.org/) Notebook, and if using Jupyter it is possible to open a terminal in a browser tab by clicking on the `New` button from the main file browser screen:\n",
    "![New Terminal](img/jupyter_terminal.png)"
   ]
  },
  {
   "cell_type": "markdown",
   "metadata": {},
   "source": [
    "## The Linux Filesystem\n",
    "\n",
    "The Linux filesystem can be visualised as a hierarchy of folders descending from the root directory, `/`. Typically beneath root there are directories for Linux tools, `bin`, system configuration, `etc`, and various others. Files in these directories can generally be read by the average user, but not written to.\n",
    "\n",
    "| ![Linux_Filesystem](img/deb.0403.gif) |\n",
    "|:--:|\n",
    "| \\[1\\] *A typical Linux filesystem tree with user directories separate from system directories.* |\n",
    "\n",
    "Every Linux user has their own home directory for storing files. This is most commonly located in the `home` folder, but may be elsewhere, paricularly on large multi-user systems where home directories may be physically distinct from the rest of the hardware and attached via the network."
   ]
  },
  {
   "cell_type": "markdown",
   "metadata": {},
   "source": [
    "### Finding your way around\n",
    "\n",
    "The location of each file or directory can be represented by a path, starting at the root directory, and with each folder separated by a `/` symbol. For example, the `echo` command we saw earlier has the following path:\n",
    "```bash\n",
    "/usr/bin/echo\n",
    "```\n",
    "To find your current location, type:"
   ]
  },
  {
   "cell_type": "code",
   "execution_count": 1,
   "metadata": {},
   "outputs": [
    {
     "name": "stdout",
     "output_type": "stream",
     "text": [
      "/Users/aw17126/git/linux_intro\n"
     ]
    }
   ],
   "source": [
    "pwd"
   ]
  },
  {
   "cell_type": "markdown",
   "metadata": {},
   "source": [
    "To change to a different directory, type:"
   ]
  },
  {
   "cell_type": "code",
   "execution_count": 2,
   "metadata": {},
   "outputs": [],
   "source": [
    "cd /usr/bin"
   ]
  },
  {
   "cell_type": "markdown",
   "metadata": {},
   "source": [
    "File paths are either _relative_ or _absolute_. An absolute path always begins with `/` and represents the full path from the root directory. Relative paths represent a location with respect to the current folder. Referring to **Figure \\[1\\]**, from Bill's 'books' directory, Patrick's 'school' directory is up two levels to _/home_ and then down two levels. This can be represented either as the absolute path:\n",
    "```bash\n",
    "/home/patrick/school\n",
    "```\n",
    "...or the relative path:\n",
    "```bash\\\n",
    "../../home/patrick/school\n",
    "```\n",
    "In Linux, the symbols `.` and `..` represent the current directory and the directory one level up towards root in the hierarchy respectively, so to list the contents of a folder one level higher we could type:"
   ]
  },
  {
   "cell_type": "code",
   "execution_count": 3,
   "metadata": {},
   "outputs": [
    {
     "name": "stdout",
     "output_type": "stream",
     "text": [
      "X11\t\tbin\t\tlib\t\tlocal\t\tshare\n",
      "X11R6\t\tinclude\t\tlibexec\t\tsbin\t\tstandalone\n"
     ]
    }
   ],
   "source": [
    "ls .."
   ]
  },
  {
   "cell_type": "markdown",
   "metadata": {},
   "source": [
    "Finally, each user's home directory is represented by the symbol `~`, so to return home type:"
   ]
  },
  {
   "cell_type": "code",
   "execution_count": 4,
   "metadata": {},
   "outputs": [],
   "source": [
    "cd ~"
   ]
  },
  {
   "cell_type": "markdown",
   "metadata": {},
   "source": [
    "#### Exercise 1\n",
    "\n",
    "Explore the filesystem using the `cd`, `ls`, and `pwd` commands. Then return to your home directory."
   ]
  },
  {
   "cell_type": "markdown",
   "metadata": {},
   "source": [
    "---\n",
    "\n",
    "## Acknowledgements\n"
   ]
  },
  {
   "cell_type": "markdown",
   "metadata": {},
   "source": [
    "\\[1\\] Copyright (c) 1999 by Bill McCarty. This material may be distributed only subject to the terms and conditions set forth in the Open Publication License, v1.0 or later"
   ]
  }
 ],
 "metadata": {
  "kernelspec": {
   "display_name": "Bash",
   "language": "bash",
   "name": "bash"
  },
  "language_info": {
   "codemirror_mode": "shell",
   "file_extension": ".sh",
   "mimetype": "text/x-sh",
   "name": "bash"
  }
 },
 "nbformat": 4,
 "nbformat_minor": 2
}
