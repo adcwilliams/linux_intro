{
 "cells": [
  {
   "cell_type": "markdown",
   "metadata": {},
   "source": [
    "![Tux Logo](img/Tux.png)\n",
    "# Introduction to Linux\n",
    "\n",
    "This short course is designed as an introduction to the Linux operating system for those who have little or no experience of using it. The aim will be to introduce the core concepts of what Linux is and can do, along with the standard array of tools and commands that will be available. More advanced concepts include shell scripting, which is an important skill for those writing job submission scripts intended to run on _High Performance Computing_ (HPC) systems."
   ]
  },
  {
   "cell_type": "markdown",
   "metadata": {},
   "source": [
    "## What is an Operating System?\n",
    "\n",
    "An operating system acts as an interface between the applications, such as a web browser or Python data processing script, and the physical hardware, such as memory, filesystems and peripherals. It shares access to the hardware such that multiple applications and multiple users can use a single computer at the same time.\n",
    "Familiar operating systems include Windows, MacOS, Linux, and Android.\n",
    "Linux is not directly descended from the earlier **UNIX** operating system, but it is frequently described as UNIX-like."
   ]
  },
  {
   "cell_type": "markdown",
   "metadata": {},
   "source": [
    "## The Role of Linux\n",
    "\n",
    "While Linux is often encountered as a desktop operating system with a graphical interface similar to Windows, in research environments it is more frequently used as a server or HPC operating system, accessible either primarily or solely via a network. A machine such as this typically has a high workload, and to avoid overloading such a system applications (or _jobs_) typically run under a job scheduler which queues them until there are processor and memory resources available for them to run. Displaying graphical applications over a network generally stresses both the network and the machine running the application, so for efficiency tools tend to be text-based.\n",
    "These two factors determine that a typical job running on a Linux HPC system will be:\n",
    " * _Non-Interactive_: It can run without user intervention, generally by reading and writing data to files.\n",
    " * _Text-Based_: Informative output is of the form of plain text rather than graphical windows.\n",
    " \n",
    "This means that when using Linux it is important to be comfortable with controlling it via a command line interface, known as the **Shell** like this:"
   ]
  },
  {
   "cell_type": "code",
   "execution_count": 5,
   "metadata": {},
   "outputs": [
    {
     "name": "stdout",
     "output_type": "stream",
     "text": [
      "Greetings from the Linux command line!\n"
     ]
    }
   ],
   "source": [
    "echo \"Greetings from the Linux command line!\""
   ]
  },
  {
   "cell_type": "markdown",
   "metadata": {},
   "source": [
    "`echo` is simply a standard Linux command that prints to the screen. Try changing the message and running it again. The command is typical of the Linux philosophy in that it performs a single task well, but we can chain commands together via _pipes_ to make more complex functions. For example, if we chain the echo command to the `wc` (word count) command we can now count the number of words in a sentence:"
   ]
  },
  {
   "cell_type": "code",
   "execution_count": 7,
   "metadata": {},
   "outputs": [
    {
     "name": "stdout",
     "output_type": "stream",
     "text": [
      "6\n"
     ]
    }
   ],
   "source": [
    "echo \"How many words in this sentence?\" | wc -w"
   ]
  },
  {
   "cell_type": "markdown",
   "metadata": {},
   "source": [
    "Well encounter many examples of this kind of output (and input) redirection as we go along and see how flexible it is for building workflows."
   ]
  },
  {
   "cell_type": "markdown",
   "metadata": {},
   "source": [
    "## Logging on to Linux\n",
    "\n",
    "To log in to a Linux machine you will need a username and password. If you've installed Linux on your own machine you'll have the opportunity to choose these yourself; if you are logging in to a shared machine supplied by your institution then these will be provided for you, or can be requested."
   ]
  },
  {
   "cell_type": "markdown",
   "metadata": {},
   "source": [
    "### From another Linux machine or a Mac\n",
    "\n",
    "Linux and Macs both have the `ssh` (secure shell) for connecting via a terminal window. The precise location of the terminal will depend on the version of the operating system in question, but once loaded type:"
   ]
  },
  {
   "cell_type": "markdown",
   "metadata": {},
   "source": [
    "`ssh aw1234@bigmachine.university.ac.uk`"
   ]
  },
  {
   "cell_type": "markdown",
   "metadata": {},
   "source": [
    "...assuming our username is `aw1234` and the machine we wanted to connect to had a network address of `bigmachine.university.ac.uk`. We'll get asked for our password, and if it is typed in correctly we'll be able to use bigmachine from the terminal just as though we were sitting in front of it."
   ]
  },
  {
   "cell_type": "code",
   "execution_count": null,
   "metadata": {},
   "outputs": [],
   "source": []
  }
 ],
 "metadata": {
  "kernelspec": {
   "display_name": "Bash",
   "language": "bash",
   "name": "bash"
  },
  "language_info": {
   "codemirror_mode": "shell",
   "file_extension": ".sh",
   "mimetype": "text/x-sh",
   "name": "bash"
  }
 },
 "nbformat": 4,
 "nbformat_minor": 2
}
